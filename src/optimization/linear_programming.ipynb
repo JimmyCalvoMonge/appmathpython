{
 "cells": [
  {
   "cell_type": "markdown",
   "metadata": {},
   "source": [
    "# Linear Programming\n",
    "\n",
    "\n",
    "Linear Programming (LP) is a mathematical method used to optimize a linear objective function, such as maximizing profit or minimizing costs, while satisfying a set of linear constraints. These constraints, expressed as inequalities or equations, define the feasible region where solutions are valid. Decision variables are adjusted to find the best outcome within this region. LP is widely used in fields like economics, business, transportation and engineering to solve problems involving resource allocation and operational efficiency. Its simplicity and effectiveness make it a fundamental tool in optimization and decision-making.\n",
    "\n",
    "For example, a manufacturer may seek to identify the optimal production levels for different combination of products in order to maximize profits while staying within the limits of available resources like labor, transportation, materials, and machinery. Here, the objective function would reflect the profit to be maximized, and the constraints would represent the resource limitations.\n",
    "\n",
    "Key components in Linear Programming\n",
    "\n",
    "* **Objective Function:** A linear expression to maximize or minimize.\n",
    "\n",
    "* **Decision Variables:** The unknowns that are determined to optimize the objective function.\n",
    "\n",
    "* **Constraints:** Linear inequalities or equations restricting the decision variables.\n",
    "\n",
    "* **Non-negativity:** Ensures variables are non-negative where required.\n",
    "\n",
    "* **Feasible Region:** The solution set satisfying all constraints, containing the optimal point.\n",
    "\n",
    "Despite its utility, linear programming (LP) has inherent limitations. It operates under the assumption of linearity in all relationships, which may not always accurately capture real-world complexities. Moreover, LP requires precise specification of coefficients and constants, a task that can be difficult due to estimation challenges.\n",
    "\n",
    "\n"
   ]
  },
  {
   "cell_type": "markdown",
   "metadata": {},
   "source": [
    "## Useful links\n",
    "Here are some extra resources you can find in the web that talk about this topic. \\\n",
    "*These links are external and we don't take responsibility for any downtime or incovenient caused by them.*\n",
    "\n",
    "- [University of Kentucky: Linear Programming notes](https://www.uky.edu/~dsianita/300/online/LP.pdf)\n",
    "\n",
    "- [MIT: Linear Programming notes, Michel Goemans](https://math.mit.edu/~goemans/18310S15/lpnotes310.pdf)\n",
    "\n",
    "- [Real Python: Hands-On Linear Programming: Optimization With Python](https://realpython.com/linear-programming-python/)\n",
    "- [YouTube: Explanatory Video, Tom S](https://www.youtube.com/watch?v=E72DWgKP_1Y)"
   ]
  },
  {
   "cell_type": "markdown",
   "metadata": {},
   "source": [
    "## LP Theory"
   ]
  },
  {
   "cell_type": "markdown",
   "metadata": {},
   "source": [
    "### Mathematical Formulation"
   ]
  },
  {
   "cell_type": "markdown",
   "metadata": {},
   "source": [
    "Comments: \n",
    "\n",
    "1) **Mixed-Integer Linear Programming (MILP):**\n",
    "\n",
    "2) **Integer Linear Programming (ILP):**\n",
    "\n",
    "3) **Computational Tools:**"
   ]
  },
  {
   "cell_type": "markdown",
   "metadata": {},
   "source": [
    "### Simplex Method"
   ]
  },
  {
   "cell_type": "code",
   "execution_count": null,
   "metadata": {},
   "outputs": [],
   "source": []
  },
  {
   "cell_type": "markdown",
   "metadata": {},
   "source": [
    "### Iterior-Point Method"
   ]
  },
  {
   "cell_type": "code",
   "execution_count": null,
   "metadata": {},
   "outputs": [],
   "source": []
  },
  {
   "cell_type": "markdown",
   "metadata": {},
   "source": [
    "### Duality"
   ]
  },
  {
   "cell_type": "code",
   "execution_count": null,
   "metadata": {},
   "outputs": [],
   "source": []
  },
  {
   "cell_type": "markdown",
   "metadata": {},
   "source": [
    "## Sensitivity Analysis:"
   ]
  },
  {
   "cell_type": "code",
   "execution_count": null,
   "metadata": {},
   "outputs": [],
   "source": []
  },
  {
   "cell_type": "markdown",
   "metadata": {},
   "source": [
    "### Scipy Example"
   ]
  },
  {
   "cell_type": "code",
   "execution_count": 2,
   "metadata": {},
   "outputs": [],
   "source": [
    "# Solve a general Problem without mathematical interpretation\n",
    "\n",
    "\n",
    "import pandas as pd ## Maybe create an imports.py?\n",
    "from scipy.optimize import linprog"
   ]
  },
  {
   "cell_type": "markdown",
   "metadata": {},
   "source": [
    "## Applications"
   ]
  },
  {
   "cell_type": "markdown",
   "metadata": {},
   "source": [
    "### Application 1"
   ]
  },
  {
   "cell_type": "markdown",
   "metadata": {},
   "source": [
    "#### Implementation"
   ]
  },
  {
   "cell_type": "markdown",
   "metadata": {},
   "source": [
    "### Application 2"
   ]
  },
  {
   "cell_type": "markdown",
   "metadata": {},
   "source": [
    "#### Implementation"
   ]
  },
  {
   "cell_type": "markdown",
   "metadata": {},
   "source": [
    "### Application 3"
   ]
  },
  {
   "cell_type": "markdown",
   "metadata": {},
   "source": [
    "#### Implementation"
   ]
  },
  {
   "cell_type": "markdown",
   "metadata": {},
   "source": [
    "## Initial References"
   ]
  },
  {
   "cell_type": "markdown",
   "metadata": {},
   "source": [
    "Internet:\n",
    "https://docs.scipy.org/doc/scipy/reference/generated/scipy.optimize.linprog.html\n",
    "\n",
    "https://coin-or.github.io/pulp/main/the_optimisation_process.html\n",
    "\n",
    "https://realpython.com/linear-programming-python/\n",
    "\n",
    "https://intro.quantecon.org/lp_intro.html\n",
    "\n",
    "https://www.uky.edu/~dsianita/300/online/LP.pdf\n",
    "\n",
    "https://math.mit.edu/~goemans/18310S15/lpnotes310.pdf\n",
    "\n",
    "https://medium.com/@chenycy/solve-optimization-problems-exploring-linear-programming-with-python-a299bcc9bdb8\n",
    "\n",
    "https://www.udemy.com/course/linear-programming-for-machine-learning/\n",
    "\n",
    "Books:"
   ]
  },
  {
   "cell_type": "code",
   "execution_count": null,
   "metadata": {},
   "outputs": [],
   "source": []
  }
 ],
 "metadata": {
  "kernelspec": {
   "display_name": "Python 3 (ipykernel)",
   "language": "python",
   "name": "python3"
  },
  "language_info": {
   "codemirror_mode": {
    "name": "ipython",
    "version": 3
   },
   "file_extension": ".py",
   "mimetype": "text/x-python",
   "name": "python",
   "nbconvert_exporter": "python",
   "pygments_lexer": "ipython3",
   "version": "3.11.7"
  }
 },
 "nbformat": 4,
 "nbformat_minor": 4
}
