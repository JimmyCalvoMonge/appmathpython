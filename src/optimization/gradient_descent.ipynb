{
 "cells": [
  {
   "cell_type": "markdown",
   "metadata": {},
   "source": [
    "# Gradient Descent\n",
    "\n",
    "Finding the minima of general functions represents an extremely important task in many use cases of applied mathematics. The most notable example comes in the field of Machine Learning, where, in general, we start with set of training observations, $X$ along with a response variable $y$ and we try to find a Machine Learning model, which is just a function $f(X, \\theta)$ depending on certain parameters $\\theta$, that tries to approximate $y$ as best as possible.\n",
    "\n",
    "These are known as **supervised** problems, because we have a set of true responses, $y$ for our training data. The task here is to find the parameters $\\theta$ that minimize our 'error', which is the difference between $f(X,\\theta)$ and $y$ (in the literature, this error is computed with an extra function called a **loss function**). As you can see, minimizing the error function is crucial to train a meaningful Machine Learning model. And this is only an example of the need to minimize a target function, there are other fields such as Finance or Economics where minima localization algorithms are needed.\n",
    "\n",
    "So, finding function minima seems to be very important, but, how to we find these minima for functions in general? If you recall from Calculus the local minima of a function are attained where the gradient of this function equals zero. In practice this is not the only option, and we can count with a clever algorithm to find these minima, called **Gradient Descent**. We will study the basics of this algorithm and its variants in this section, as well as provide some examples of how to apply it."
   ]
  },
  {
   "cell_type": "markdown",
   "metadata": {},
   "source": [
    "<img src=\"https://jimmycalvomonge.github.io/appmathpython/_static/gradient.png\" alt=\"gradient\" style=\"width:400px; margin:auto;\"/>"
   ]
  },
  {
   "cell_type": "markdown",
   "metadata": {},
   "source": [
    "## Useful links\n",
    "Here are some extra resources you can find in the web that talk about this topic. \\\n",
    "*These links are external and we don't take responsibility for any downtime or incovenient caused by them.*\n",
    "\n",
    "- [Utah Gradient Descent notes](https://users.cs.utah.edu/~jeffp/IDABook/T6-GD.pdf)\n",
    "- [Real Python: Stochastic Gradient Descent Algorithm With Python and NumPy](https://realpython.com/gradient-descent-algorithm-python/)\n",
    "- [Stat Quest Gradient Descent](https://www.youtube.com/watch?v=sDv4f4s2SB8)"
   ]
  },
  {
   "cell_type": "markdown",
   "metadata": {},
   "source": [
    "## Let's review the theory"
   ]
  },
  {
   "cell_type": "markdown",
   "metadata": {},
   "source": [
    "You have a real-valued function $f: \\mathbb{R}^n \\to \\mathbb{R}$ (possibly multivariate), and you want an $x_0 \\in \\mathbb{R}^n$ which is a local minimum of $f(x)$. This means that there is a neighborhood $B_{\\epsilon}(x)$ in which $f(x)$ attains a minimum at $x_0$. For example, in the next figure we can see that the approximate point $(1.577, -1.385)$ is a local minima of $f(x)$, because is a minimum in the neighborhood $]1,2[$ (highlighted in yellow).\n",
    "\n",
    "Note that this point is not a *global* minimum of this function, that is, is not the point at which $f(x)$ has a minimal value overall, because $f(x)$ decreases as $x$ moves to $-\\infty$. We are interested in finding *local* minima for the problem that concerns us today. If a point is a global minimum, then it is also, trivially, a local minimum as well."
   ]
  },
  {
   "cell_type": "code",
   "execution_count": 24,
   "metadata": {},
   "outputs": [
    {
     "data": {
      "image/png": "[encoded data removed]",
      "text/plain": [
       "<Figure size 640x480 with 1 Axes>"
      ]
     },
     "metadata": {},
     "output_type": "display_data"
    }
   ],
   "source": [
    "import matplotlib.pyplot as plt\n",
    "import numpy as np\n",
    "from matplotlib.patches import Rectangle\n",
    "\n",
    "xx = np.linspace(-0.5, 2.5, 100)\n",
    "fx = [x**3 -3*x**2 +2*x -1 for x in xx]\n",
    "\n",
    "ax = plt.gca()\n",
    "rect = Rectangle((1,-3), 1, 4, fc='yellow', alpha=0.5)\n",
    "ax.add_patch(rect)\n",
    "\n",
    "plt.plot(xx, fx, linewidth=2, color='b')\n",
    "plt.plot(1.577, -1.385, \"or\")\n",
    "plt.show()"
   ]
  },
  {
   "cell_type": "markdown",
   "metadata": {},
   "source": [
    "Now, how to we find this point? As we saw in Calculus 101 at college, we can compute the gradient of $f(x)$ and find points at which this gradient is zero. Remember that for a differentiable function $f:\\mathbb{R}^n \\to \\mathbb{R}$, its gradient is given by the vector\n",
    "$$\n",
    "\\nabla f(x) = \\left( \\frac{\\partial f}{\\partial x_1}, \\cdots, \\frac{\\partial f}{\\partial x_n}\\right),\n",
    "$$\n",
    "formed by the partial derivatives of $f(x)$. In $n=1$ dimensions, this is just the derivative $\\nabla f(x) = f'(x)$."
   ]
  },
  {
   "cell_type": "markdown",
   "metadata": {},
   "source": [
    "### Using `np.gradient`"
   ]
  },
  {
   "cell_type": "code",
   "execution_count": null,
   "metadata": {},
   "outputs": [],
   "source": []
  },
  {
   "cell_type": "markdown",
   "metadata": {},
   "source": [
    "### Gradient descent algorithm"
   ]
  },
  {
   "cell_type": "code",
   "execution_count": null,
   "metadata": {},
   "outputs": [],
   "source": []
  },
  {
   "cell_type": "markdown",
   "metadata": {},
   "source": [
    "## Stochastic gradient descent"
   ]
  },
  {
   "cell_type": "markdown",
   "metadata": {},
   "source": [
    "..."
   ]
  },
  {
   "cell_type": "markdown",
   "metadata": {},
   "source": [
    "## Other variants of gradient descent"
   ]
  },
  {
   "cell_type": "markdown",
   "metadata": {},
   "source": [
    "..."
   ]
  },
  {
   "cell_type": "markdown",
   "metadata": {},
   "source": [
    "## Applications and examples"
   ]
  },
  {
   "cell_type": "markdown",
   "metadata": {},
   "source": [
    "..."
   ]
  },
  {
   "cell_type": "code",
   "execution_count": null,
   "metadata": {},
   "outputs": [],
   "source": []
  }
 ],
 "metadata": {
  "kernelspec": {
   "display_name": "Python 3 (ipykernel)",
   "language": "python",
   "name": "python3"
  },
  "language_info": {
   "codemirror_mode": {
    "name": "ipython",
    "version": 3
   },
   "file_extension": ".py",
   "mimetype": "text/x-python",
   "name": "python",
   "nbconvert_exporter": "python",
   "pygments_lexer": "ipython3",
   "version": "3.12.4"
  }
 },
 "nbformat": 4,
 "nbformat_minor": 4
}
